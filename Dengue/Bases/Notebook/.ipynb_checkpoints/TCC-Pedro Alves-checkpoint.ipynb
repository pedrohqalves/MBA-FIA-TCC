{
 "cells": [
  {
   "cell_type": "markdown",
   "metadata": {},
   "source": [
    "# ===============================\n",
    "\n",
    "\n",
    "# Importando as bibliotecas básicas\n",
    "\n",
    "\n",
    "# ==============================="
   ]
  },
  {
   "cell_type": "code",
   "execution_count": 52,
   "metadata": {},
   "outputs": [],
   "source": [
    "import pandas as pd\n",
    "import numpy as np\n",
    "import matplotlib.pyplot as plt\n",
    "import seaborn as sns"
   ]
  },
  {
   "cell_type": "markdown",
   "metadata": {},
   "source": [
    "# ==============================\n",
    "\n",
    "\n",
    "# Lendo as bases de dados\n",
    "\n",
    "\n",
    "# =============================="
   ]
  },
  {
   "cell_type": "markdown",
   "metadata": {},
   "source": [
    "### Primeiro a base de casos de dengue"
   ]
  },
  {
   "cell_type": "code",
   "execution_count": 45,
   "metadata": {},
   "outputs": [
    {
     "name": "stdout",
     "output_type": "stream",
     "text": [
      "2013\n",
      "254909\n",
      "254909\n",
      "2014\n",
      "15901\n",
      "270810\n",
      "2015\n",
      "93522\n",
      "364332\n",
      "2016\n",
      "115112\n",
      "479444\n",
      "2017\n",
      "16962\n",
      "496406\n",
      "2018\n",
      "25090\n",
      "521496\n",
      "2019\n",
      "50754\n",
      "572250\n"
     ]
    }
   ],
   "source": [
    "#Casos de Dengue\n",
    "\n",
    "df = pd.DataFrame()\n",
    "for i in [2013,2014,2015,2016,2017,2018,2019]:\n",
    "    print(i)\n",
    "    db = pd.read_csv(r'E:\\Users\\quadr\\Documents\\MBA\\Trabalhos\\TCC\\Dengue Rio\\Casos Dengue RJ DBC\\denguerj'+str(i)+'.csv',engine='python')\n",
    "    print(db.count()[0])\n",
    "    frames =[df,db]\n",
    "    df = pd.concat(frames,sort=False)\n",
    "    print(df.count()[0])\n"
   ]
  },
  {
   "cell_type": "markdown",
   "metadata": {},
   "source": [
    "### Filtrando apenas a cidade do Rio de Janeiro - Cód IBGE 330455"
   ]
  },
  {
   "cell_type": "code",
   "execution_count": 65,
   "metadata": {},
   "outputs": [],
   "source": [
    "df2 = df[df.ID_MUNICIP==330455]"
   ]
  },
  {
   "cell_type": "code",
   "execution_count": 51,
   "metadata": {},
   "outputs": [],
   "source": [
    "#Dados de Estabelecimentos (para pegarmos os bairros)\n",
    "\n",
    "estab = pd.read_csv(r'E:\\Users\\quadr\\Documents\\MBA\\Trabalhos\\TCC\\Dengue Rio\\Estabelecimentos\\estabelecimentos.csv',engine='python')"
   ]
  },
  {
   "cell_type": "code",
   "execution_count": 165,
   "metadata": {},
   "outputs": [],
   "source": [
    "df_completa = df2.merge(estab[['CNES','COD_CEP']], how='left', left_on ='ID_UNIDADE', right_on='CNES')"
   ]
  },
  {
   "cell_type": "markdown",
   "metadata": {},
   "source": [
    "### Para inferir a região e o bairro da cidade, precisaremos identificar através do CEP do estabelecimento da notificação."
   ]
  },
  {
   "cell_type": "code",
   "execution_count": 158,
   "metadata": {},
   "outputs": [
    {
     "name": "stderr",
     "output_type": "stream",
     "text": [
      "C:\\Users\\quadr\\Anaconda3\\lib\\site-packages\\IPython\\core\\interactiveshell.py:3020: DtypeWarning: Columns (7,8,9,10,11) have mixed types. Specify dtype option on import or set low_memory=False.\n",
      "  interactivity=interactivity, compiler=compiler, result=result)\n"
     ]
    }
   ],
   "source": [
    "# importando a base de endereços\n",
    "\n",
    "endereco = pd.read_csv(r'E:\\Users\\quadr\\Documents\\MBA\\Trabalhos\\TCC\\Dengue Rio\\Estabelecimentos\\ceps.csv')"
   ]
  },
  {
   "cell_type": "code",
   "execution_count": 161,
   "metadata": {},
   "outputs": [],
   "source": [
    "endrj = endereco[endereco.CIDADE == 'Rio de Janeiro/RJ']"
   ]
  },
  {
   "cell_type": "code",
   "execution_count": 172,
   "metadata": {},
   "outputs": [],
   "source": [
    "df_completa2 = df_completa.merge(endrj[['CEP','CIDADE','BAIRRO','RUA']], how='left', left_on = 'COD_CEP', right_on='CEP')"
   ]
  },
  {
   "cell_type": "code",
   "execution_count": 173,
   "metadata": {},
   "outputs": [
    {
     "data": {
      "text/plain": [
       "Unnamed: 0    163157\n",
       "NU_NOTIFIC    163157\n",
       "TP_NOT        163157\n",
       "ID_AGRAVO     163157\n",
       "DT_NOTIFIC    163157\n",
       "               ...  \n",
       "COD_CEP       116890\n",
       "CEP           116890\n",
       "CIDADE        116890\n",
       "BAIRRO        116887\n",
       "RUA           116890\n",
       "Length: 127, dtype: int64"
      ]
     },
     "execution_count": 173,
     "metadata": {},
     "output_type": "execute_result"
    }
   ],
   "source": [
    "df_completa2.count()"
   ]
  },
  {
   "cell_type": "markdown",
   "metadata": {},
   "source": [
    "### Filtrando somente os resultados onde temos endereço correspondente"
   ]
  },
  {
   "cell_type": "code",
   "execution_count": 174,
   "metadata": {},
   "outputs": [],
   "source": [
    "df_final = df_completa2[df_completa2.CIDADE == 'Rio de Janeiro/RJ']"
   ]
  },
  {
   "cell_type": "markdown",
   "metadata": {},
   "source": [
    "#### Terminamos com uma base de dados de aprox 116 mil registros\n",
    "\n",
    "#### Temos agora os registros da cidade do RJ, com classificação de bairro, e podemos comparar com a base de clima nos mesmos bairros"
   ]
  },
  {
   "cell_type": "code",
   "execution_count": 182,
   "metadata": {},
   "outputs": [],
   "source": [
    "df_final.to_csv(r'E:\\Users\\quadr\\Documents\\MBA\\Trabalhos\\TCC\\Dengue Rio\\Bases TCC\\casosdenguerj.csv')"
   ]
  },
  {
   "cell_type": "code",
   "execution_count": 200,
   "metadata": {},
   "outputs": [],
   "source": [
    "# Pegando os casos de dengue somente dos bairros onde temos medição de clima\n",
    "\n",
    "df_final_filtrada = df_final[df_final['BAIRRO'].isin(['Copacabana','Centro','São Cristóvão','Tijuca','Irajá','Bangu','Campo Grande','Pedra da Guaratiba'])]"
   ]
  },
  {
   "cell_type": "code",
   "execution_count": 245,
   "metadata": {},
   "outputs": [],
   "source": [
    "# Fazendo a contagem de notificações por data e bairro\n",
    "\n",
    "casosdengue = df_final_filtrada.groupby(['DT_NOTIFIC','BAIRRO']).NU_NOTIFIC.count()"
   ]
  },
  {
   "cell_type": "code",
   "execution_count": 252,
   "metadata": {},
   "outputs": [],
   "source": [
    "casosdengue = pd.DataFrame(casosdengue)\n",
    "casosdengue = casosdengue.reset_index()"
   ]
  },
  {
   "cell_type": "code",
   "execution_count": 256,
   "metadata": {
    "scrolled": true
   },
   "outputs": [],
   "source": [
    "casosdengue['DATE'] = casosdengue.DT_NOTIFIC.apply(lambda x: datetime.strptime(x, '%Y-%m-%d').date())"
   ]
  },
  {
   "cell_type": "markdown",
   "metadata": {},
   "source": [
    "### Importando agora os dados climáticos"
   ]
  },
  {
   "cell_type": "code",
   "execution_count": 298,
   "metadata": {},
   "outputs": [],
   "source": [
    "climarj = pd.read_csv(r'E:\\Users\\quadr\\Documents\\MBA\\Trabalhos\\TCC\\Dengue Rio\\Bases TCC\\BaseMonitorAr.csv')"
   ]
  },
  {
   "cell_type": "code",
   "execution_count": 299,
   "metadata": {},
   "outputs": [],
   "source": [
    "# Criando coordenadas usando latitude e longitude para uso posterior\n",
    "\n",
    "climarj['geo'] = list(zip(climarj.Lat, climarj.Lon))"
   ]
  },
  {
   "cell_type": "markdown",
   "metadata": {},
   "source": [
    "### Aplicando as segmentações de bairro\n",
    "\n",
    "#### Centro (CA)\n",
    "#### Copacabana (AV)\n",
    "#### São Cristóvão (SC)\n",
    "#### Tijuca (SP)\n",
    "#### Irajá (IR)\n",
    "#### Bangu (BG)\n",
    "#### Campo Grande (CG)\n",
    "#### Pedra de Guaratiba (PG)\n"
   ]
  },
  {
   "cell_type": "code",
   "execution_count": 300,
   "metadata": {},
   "outputs": [],
   "source": [
    "# Ajustando as datas da base de clima que estão em formato string\n",
    "from datetime import datetime\n",
    "\n",
    "climarj['DATE'] = climarj.Data.apply(lambda x: datetime.strptime(x[0:10], '%Y/%m/%d').date())"
   ]
  },
  {
   "cell_type": "code",
   "execution_count": 301,
   "metadata": {},
   "outputs": [],
   "source": [
    "lista = [['AV','Copacabana'],['CA','Centro'],['SC','São Cristóvão'],['SP','Tijuca'],['IR','Irajá'],['BG','Bangu'],['CG','Campo Grande'],['PG','Pedra da Guaratiba']]\n",
    "bairros = pd.DataFrame(lista, columns=['Estação', 'BAIRRO'])"
   ]
  },
  {
   "cell_type": "code",
   "execution_count": 302,
   "metadata": {},
   "outputs": [],
   "source": [
    "climarjfinal = climarj.merge(bairros, how='left', on='Estação')"
   ]
  },
  {
   "cell_type": "code",
   "execution_count": 303,
   "metadata": {
    "scrolled": true
   },
   "outputs": [],
   "source": [
    "abt = pd.merge(climarjfinal,casosdengue,how='inner',left_on = ['DATE','BAIRRO'],right_on=['DATE','BAIRRO'])"
   ]
  },
  {
   "cell_type": "markdown",
   "metadata": {},
   "source": [
    "### A ABT terminou com aprox 90mil registros\n",
    "\n",
    "### Critério Final\n",
    "\n",
    "### Casos Dengue apenas nas regiões onde temos medição de dados de clima, apenas nos anos onde temos casos registrados (2013 a 2019)"
   ]
  },
  {
   "cell_type": "markdown",
   "metadata": {},
   "source": [
    "# ==============================================\n",
    "\n",
    "\n",
    "# Analise Exploratória\n",
    "\n",
    "\n",
    "# =============================================="
   ]
  },
  {
   "cell_type": "code",
   "execution_count": 304,
   "metadata": {},
   "outputs": [
    {
     "data": {
      "text/html": [
       "<div>\n",
       "<style scoped>\n",
       "    .dataframe tbody tr th:only-of-type {\n",
       "        vertical-align: middle;\n",
       "    }\n",
       "\n",
       "    .dataframe tbody tr th {\n",
       "        vertical-align: top;\n",
       "    }\n",
       "\n",
       "    .dataframe thead th {\n",
       "        text-align: right;\n",
       "    }\n",
       "</style>\n",
       "<table border=\"1\" class=\"dataframe\">\n",
       "  <thead>\n",
       "    <tr style=\"text-align: right;\">\n",
       "      <th></th>\n",
       "      <th>OBJECTID</th>\n",
       "      <th>CodNum</th>\n",
       "      <th>Chuva</th>\n",
       "      <th>Pres</th>\n",
       "      <th>RS</th>\n",
       "      <th>Temp</th>\n",
       "      <th>UR</th>\n",
       "      <th>Dir_Vento</th>\n",
       "      <th>Vel_Vento</th>\n",
       "      <th>SO2</th>\n",
       "      <th>...</th>\n",
       "      <th>NO</th>\n",
       "      <th>NOx</th>\n",
       "      <th>O3</th>\n",
       "      <th>PM10</th>\n",
       "      <th>PM2_5</th>\n",
       "      <th>Lat</th>\n",
       "      <th>Lon</th>\n",
       "      <th>X_UTM_Sirgas2000</th>\n",
       "      <th>Y_UTM_Sirgas2000</th>\n",
       "      <th>NU_NOTIFIC</th>\n",
       "    </tr>\n",
       "  </thead>\n",
       "  <tbody>\n",
       "    <tr>\n",
       "      <th>count</th>\n",
       "      <td>83769.000000</td>\n",
       "      <td>83769.000000</td>\n",
       "      <td>83180.000000</td>\n",
       "      <td>82846.000000</td>\n",
       "      <td>76026.000000</td>\n",
       "      <td>77099.000000</td>\n",
       "      <td>77768.000000</td>\n",
       "      <td>72682.000000</td>\n",
       "      <td>72708.000000</td>\n",
       "      <td>76252.000000</td>\n",
       "      <td>...</td>\n",
       "      <td>48883.000000</td>\n",
       "      <td>48815.000000</td>\n",
       "      <td>81252.000000</td>\n",
       "      <td>78941.000000</td>\n",
       "      <td>11414.000000</td>\n",
       "      <td>83769.000000</td>\n",
       "      <td>83769.000000</td>\n",
       "      <td>83769.000000</td>\n",
       "      <td>8.376900e+04</td>\n",
       "      <td>83769.000000</td>\n",
       "    </tr>\n",
       "    <tr>\n",
       "      <th>mean</th>\n",
       "      <td>187348.849956</td>\n",
       "      <td>3.867433</td>\n",
       "      <td>0.146902</td>\n",
       "      <td>1013.993441</td>\n",
       "      <td>150.384151</td>\n",
       "      <td>26.327593</td>\n",
       "      <td>69.157204</td>\n",
       "      <td>164.085227</td>\n",
       "      <td>1.121205</td>\n",
       "      <td>3.599229</td>\n",
       "      <td>...</td>\n",
       "      <td>19.448947</td>\n",
       "      <td>48.662964</td>\n",
       "      <td>27.173476</td>\n",
       "      <td>40.410485</td>\n",
       "      <td>18.675738</td>\n",
       "      <td>-22.900811</td>\n",
       "      <td>-43.330262</td>\n",
       "      <td>671257.163624</td>\n",
       "      <td>7.466482e+06</td>\n",
       "      <td>9.065537</td>\n",
       "    </tr>\n",
       "    <tr>\n",
       "      <th>std</th>\n",
       "      <td>136939.828090</td>\n",
       "      <td>2.389954</td>\n",
       "      <td>1.285060</td>\n",
       "      <td>4.808310</td>\n",
       "      <td>240.444884</td>\n",
       "      <td>4.811505</td>\n",
       "      <td>17.264353</td>\n",
       "      <td>71.210045</td>\n",
       "      <td>0.873196</td>\n",
       "      <td>5.823442</td>\n",
       "      <td>...</td>\n",
       "      <td>29.670254</td>\n",
       "      <td>40.611921</td>\n",
       "      <td>29.731434</td>\n",
       "      <td>24.625877</td>\n",
       "      <td>14.727837</td>\n",
       "      <td>0.039771</td>\n",
       "      <td>0.140532</td>\n",
       "      <td>14389.741144</td>\n",
       "      <td>4.492806e+03</td>\n",
       "      <td>18.645511</td>\n",
       "    </tr>\n",
       "    <tr>\n",
       "      <th>min</th>\n",
       "      <td>8746.000000</td>\n",
       "      <td>1.000000</td>\n",
       "      <td>0.000000</td>\n",
       "      <td>997.950000</td>\n",
       "      <td>0.000000</td>\n",
       "      <td>11.320000</td>\n",
       "      <td>0.000000</td>\n",
       "      <td>0.000000</td>\n",
       "      <td>0.000000</td>\n",
       "      <td>0.000000</td>\n",
       "      <td>...</td>\n",
       "      <td>0.000000</td>\n",
       "      <td>0.020000</td>\n",
       "      <td>0.000000</td>\n",
       "      <td>0.000000</td>\n",
       "      <td>0.000000</td>\n",
       "      <td>-22.965004</td>\n",
       "      <td>-43.556522</td>\n",
       "      <td>648064.492100</td>\n",
       "      <td>7.459198e+06</td>\n",
       "      <td>1.000000</td>\n",
       "    </tr>\n",
       "    <tr>\n",
       "      <th>25%</th>\n",
       "      <td>61666.000000</td>\n",
       "      <td>2.000000</td>\n",
       "      <td>0.000000</td>\n",
       "      <td>1010.620000</td>\n",
       "      <td>0.000000</td>\n",
       "      <td>22.900000</td>\n",
       "      <td>57.720000</td>\n",
       "      <td>103.830000</td>\n",
       "      <td>0.530000</td>\n",
       "      <td>0.490000</td>\n",
       "      <td>...</td>\n",
       "      <td>2.400000</td>\n",
       "      <td>22.110000</td>\n",
       "      <td>4.890000</td>\n",
       "      <td>23.000000</td>\n",
       "      <td>9.000000</td>\n",
       "      <td>-22.924915</td>\n",
       "      <td>-43.471074</td>\n",
       "      <td>656828.804500</td>\n",
       "      <td>7.463703e+06</td>\n",
       "      <td>1.000000</td>\n",
       "    </tr>\n",
       "    <tr>\n",
       "      <th>50%</th>\n",
       "      <td>185083.000000</td>\n",
       "      <td>4.000000</td>\n",
       "      <td>0.000000</td>\n",
       "      <td>1013.820000</td>\n",
       "      <td>4.170000</td>\n",
       "      <td>25.650000</td>\n",
       "      <td>71.300000</td>\n",
       "      <td>166.170000</td>\n",
       "      <td>0.850000</td>\n",
       "      <td>1.890000</td>\n",
       "      <td>...</td>\n",
       "      <td>7.660000</td>\n",
       "      <td>37.630000</td>\n",
       "      <td>17.990000</td>\n",
       "      <td>36.000000</td>\n",
       "      <td>15.000000</td>\n",
       "      <td>-22.887910</td>\n",
       "      <td>-43.326845</td>\n",
       "      <td>671696.623800</td>\n",
       "      <td>7.468075e+06</td>\n",
       "      <td>3.000000</td>\n",
       "    </tr>\n",
       "    <tr>\n",
       "      <th>75%</th>\n",
       "      <td>261507.000000</td>\n",
       "      <td>5.000000</td>\n",
       "      <td>0.000000</td>\n",
       "      <td>1017.130000</td>\n",
       "      <td>225.330000</td>\n",
       "      <td>29.070000</td>\n",
       "      <td>82.270000</td>\n",
       "      <td>219.330000</td>\n",
       "      <td>1.450000</td>\n",
       "      <td>4.250000</td>\n",
       "      <td>...</td>\n",
       "      <td>24.530000</td>\n",
       "      <td>61.930000</td>\n",
       "      <td>39.010000</td>\n",
       "      <td>52.000000</td>\n",
       "      <td>25.000000</td>\n",
       "      <td>-22.886255</td>\n",
       "      <td>-43.180482</td>\n",
       "      <td>686537.012800</td>\n",
       "      <td>7.468346e+06</td>\n",
       "      <td>7.000000</td>\n",
       "    </tr>\n",
       "    <tr>\n",
       "      <th>max</th>\n",
       "      <td>438639.000000</td>\n",
       "      <td>8.000000</td>\n",
       "      <td>88.000000</td>\n",
       "      <td>1033.750000</td>\n",
       "      <td>1248.330000</td>\n",
       "      <td>49.080000</td>\n",
       "      <td>100.000000</td>\n",
       "      <td>350.500000</td>\n",
       "      <td>8.020000</td>\n",
       "      <td>199.230000</td>\n",
       "      <td>...</td>\n",
       "      <td>429.480000</td>\n",
       "      <td>534.060000</td>\n",
       "      <td>259.350000</td>\n",
       "      <td>454.000000</td>\n",
       "      <td>140.000000</td>\n",
       "      <td>-22.831621</td>\n",
       "      <td>-43.178152</td>\n",
       "      <td>686853.707500</td>\n",
       "      <td>7.474147e+06</td>\n",
       "      <td>356.000000</td>\n",
       "    </tr>\n",
       "  </tbody>\n",
       "</table>\n",
       "<p>8 rows × 25 columns</p>\n",
       "</div>"
      ],
      "text/plain": [
       "            OBJECTID        CodNum         Chuva          Pres            RS  \\\n",
       "count   83769.000000  83769.000000  83180.000000  82846.000000  76026.000000   \n",
       "mean   187348.849956      3.867433      0.146902   1013.993441    150.384151   \n",
       "std    136939.828090      2.389954      1.285060      4.808310    240.444884   \n",
       "min      8746.000000      1.000000      0.000000    997.950000      0.000000   \n",
       "25%     61666.000000      2.000000      0.000000   1010.620000      0.000000   \n",
       "50%    185083.000000      4.000000      0.000000   1013.820000      4.170000   \n",
       "75%    261507.000000      5.000000      0.000000   1017.130000    225.330000   \n",
       "max    438639.000000      8.000000     88.000000   1033.750000   1248.330000   \n",
       "\n",
       "               Temp            UR     Dir_Vento     Vel_Vento           SO2  \\\n",
       "count  77099.000000  77768.000000  72682.000000  72708.000000  76252.000000   \n",
       "mean      26.327593     69.157204    164.085227      1.121205      3.599229   \n",
       "std        4.811505     17.264353     71.210045      0.873196      5.823442   \n",
       "min       11.320000      0.000000      0.000000      0.000000      0.000000   \n",
       "25%       22.900000     57.720000    103.830000      0.530000      0.490000   \n",
       "50%       25.650000     71.300000    166.170000      0.850000      1.890000   \n",
       "75%       29.070000     82.270000    219.330000      1.450000      4.250000   \n",
       "max       49.080000    100.000000    350.500000      8.020000    199.230000   \n",
       "\n",
       "       ...            NO           NOx            O3          PM10  \\\n",
       "count  ...  48883.000000  48815.000000  81252.000000  78941.000000   \n",
       "mean   ...     19.448947     48.662964     27.173476     40.410485   \n",
       "std    ...     29.670254     40.611921     29.731434     24.625877   \n",
       "min    ...      0.000000      0.020000      0.000000      0.000000   \n",
       "25%    ...      2.400000     22.110000      4.890000     23.000000   \n",
       "50%    ...      7.660000     37.630000     17.990000     36.000000   \n",
       "75%    ...     24.530000     61.930000     39.010000     52.000000   \n",
       "max    ...    429.480000    534.060000    259.350000    454.000000   \n",
       "\n",
       "              PM2_5           Lat           Lon  X_UTM_Sirgas2000  \\\n",
       "count  11414.000000  83769.000000  83769.000000      83769.000000   \n",
       "mean      18.675738    -22.900811    -43.330262     671257.163624   \n",
       "std       14.727837      0.039771      0.140532      14389.741144   \n",
       "min        0.000000    -22.965004    -43.556522     648064.492100   \n",
       "25%        9.000000    -22.924915    -43.471074     656828.804500   \n",
       "50%       15.000000    -22.887910    -43.326845     671696.623800   \n",
       "75%       25.000000    -22.886255    -43.180482     686537.012800   \n",
       "max      140.000000    -22.831621    -43.178152     686853.707500   \n",
       "\n",
       "       Y_UTM_Sirgas2000    NU_NOTIFIC  \n",
       "count      8.376900e+04  83769.000000  \n",
       "mean       7.466482e+06      9.065537  \n",
       "std        4.492806e+03     18.645511  \n",
       "min        7.459198e+06      1.000000  \n",
       "25%        7.463703e+06      1.000000  \n",
       "50%        7.468075e+06      3.000000  \n",
       "75%        7.468346e+06      7.000000  \n",
       "max        7.474147e+06    356.000000  \n",
       "\n",
       "[8 rows x 25 columns]"
      ]
     },
     "execution_count": 304,
     "metadata": {},
     "output_type": "execute_result"
    }
   ],
   "source": [
    "abt.describe()"
   ]
  },
  {
   "cell_type": "code",
   "execution_count": 305,
   "metadata": {},
   "outputs": [],
   "source": [
    "aux = []\n",
    "for i in abt.columns:\n",
    "    if abt[i].isna().sum() >0:\n",
    "        aux.append(i)\n",
    "    else:\n",
    "        pass"
   ]
  },
  {
   "cell_type": "markdown",
   "metadata": {},
   "source": [
    "### Temos uma quantidade grande de dados nulos em algumas variáveis. Como se tratam de medidas climáticas, vamos assumir a principio como baseline a média como substituição"
   ]
  },
  {
   "cell_type": "code",
   "execution_count": 306,
   "metadata": {},
   "outputs": [],
   "source": [
    "abt_preenchida = abt\n",
    "for i in aux:\n",
    "    abt_preenchida[i] = abt_preenchida[i].fillna(abt_preenchida[i].mean())"
   ]
  },
  {
   "cell_type": "code",
   "execution_count": 307,
   "metadata": {},
   "outputs": [
    {
     "data": {
      "text/plain": [
       "Index(['OBJECTID', 'Data', 'CodNum', 'Estação', 'Chuva', 'Pres', 'RS', 'Temp',\n",
       "       'UR', 'Dir_Vento', 'Vel_Vento', 'SO2', 'NO2', 'HCNM', 'HCT', 'CH4',\n",
       "       'CO', 'NO', 'NOx', 'O3', 'PM10', 'PM2_5', 'Lat', 'Lon',\n",
       "       'X_UTM_Sirgas2000', 'Y_UTM_Sirgas2000', 'geo', 'DATE', 'BAIRRO',\n",
       "       'DT_NOTIFIC', 'NU_NOTIFIC'],\n",
       "      dtype='object')"
      ]
     },
     "execution_count": 307,
     "metadata": {},
     "output_type": "execute_result"
    }
   ],
   "source": [
    "abt_preenchida.columns"
   ]
  },
  {
   "cell_type": "code",
   "execution_count": 314,
   "metadata": {},
   "outputs": [
    {
     "name": "stderr",
     "output_type": "stream",
     "text": [
      "C:\\Users\\quadr\\Anaconda3\\lib\\site-packages\\ipykernel_launcher.py:1: UserWarning: Pandas doesn't allow columns to be created via a new attribute name - see https://pandas.pydata.org/pandas-docs/stable/indexing.html#attribute-access\n",
      "  \"\"\"Entry point for launching an IPython kernel.\n",
      "C:\\Users\\quadr\\Anaconda3\\lib\\site-packages\\ipykernel_launcher.py:2: UserWarning: Pandas doesn't allow columns to be created via a new attribute name - see https://pandas.pydata.org/pandas-docs/stable/indexing.html#attribute-access\n",
      "  \n"
     ]
    }
   ],
   "source": [
    "abt_preenchida.ANO = abt_preenchida.DATE.apply(lambda x: x.year)\n",
    "abt_preenchida.MES = abt_preenchida.DATE.apply(lambda x: x.month)"
   ]
  },
  {
   "cell_type": "code",
   "execution_count": 316,
   "metadata": {},
   "outputs": [
    {
     "data": {
      "text/plain": [
       "array([2013, 2014, 2015, 2016, 2012], dtype=int64)"
      ]
     },
     "execution_count": 316,
     "metadata": {},
     "output_type": "execute_result"
    }
   ],
   "source": [
    "abt_preenchida.ANO.unique()"
   ]
  },
  {
   "cell_type": "code",
   "execution_count": 318,
   "metadata": {},
   "outputs": [
    {
     "data": {
      "text/plain": [
       "0       2012-12-31\n",
       "1       2013-01-01\n",
       "2       2013-01-02\n",
       "3       2013-01-02\n",
       "4       2013-01-02\n",
       "           ...    \n",
       "3604    2016-12-29\n",
       "3605    2016-12-29\n",
       "3606    2016-12-30\n",
       "3607    2016-12-30\n",
       "3608    2016-12-30\n",
       "Name: DATE, Length: 3609, dtype: object"
      ]
     },
     "execution_count": 318,
     "metadata": {},
     "output_type": "execute_result"
    }
   ],
   "source": [
    "casosdengue.DATE"
   ]
  },
  {
   "cell_type": "code",
   "execution_count": 327,
   "metadata": {},
   "outputs": [
    {
     "data": {
      "text/html": [
       "<div>\n",
       "<style scoped>\n",
       "    .dataframe tbody tr th:only-of-type {\n",
       "        vertical-align: middle;\n",
       "    }\n",
       "\n",
       "    .dataframe tbody tr th {\n",
       "        vertical-align: top;\n",
       "    }\n",
       "\n",
       "    .dataframe thead th {\n",
       "        text-align: right;\n",
       "    }\n",
       "</style>\n",
       "<table border=\"1\" class=\"dataframe\">\n",
       "  <thead>\n",
       "    <tr style=\"text-align: right;\">\n",
       "      <th></th>\n",
       "      <th>DT_NOTIFIC</th>\n",
       "      <th>COD_CEP</th>\n",
       "    </tr>\n",
       "  </thead>\n",
       "  <tbody>\n",
       "    <tr>\n",
       "      <th>0</th>\n",
       "      <td>2013-03-27</td>\n",
       "      <td>21061600.0</td>\n",
       "    </tr>\n",
       "    <tr>\n",
       "      <th>1</th>\n",
       "      <td>2013-04-11</td>\n",
       "      <td>21870170.0</td>\n",
       "    </tr>\n",
       "    <tr>\n",
       "      <th>2</th>\n",
       "      <td>2013-06-01</td>\n",
       "      <td>23570000.0</td>\n",
       "    </tr>\n",
       "    <tr>\n",
       "      <th>3</th>\n",
       "      <td>2013-03-14</td>\n",
       "      <td>21061600.0</td>\n",
       "    </tr>\n",
       "    <tr>\n",
       "      <th>4</th>\n",
       "      <td>2013-03-31</td>\n",
       "      <td>21040361.0</td>\n",
       "    </tr>\n",
       "    <tr>\n",
       "      <th>...</th>\n",
       "      <td>...</td>\n",
       "      <td>...</td>\n",
       "    </tr>\n",
       "    <tr>\n",
       "      <th>163152</th>\n",
       "      <td>2019-04-18</td>\n",
       "      <td>NaN</td>\n",
       "    </tr>\n",
       "    <tr>\n",
       "      <th>163153</th>\n",
       "      <td>2019-09-17</td>\n",
       "      <td>NaN</td>\n",
       "    </tr>\n",
       "    <tr>\n",
       "      <th>163154</th>\n",
       "      <td>2019-08-27</td>\n",
       "      <td>NaN</td>\n",
       "    </tr>\n",
       "    <tr>\n",
       "      <th>163155</th>\n",
       "      <td>2019-08-29</td>\n",
       "      <td>NaN</td>\n",
       "    </tr>\n",
       "    <tr>\n",
       "      <th>163156</th>\n",
       "      <td>2019-10-23</td>\n",
       "      <td>NaN</td>\n",
       "    </tr>\n",
       "  </tbody>\n",
       "</table>\n",
       "<p>163157 rows × 2 columns</p>\n",
       "</div>"
      ],
      "text/plain": [
       "        DT_NOTIFIC     COD_CEP\n",
       "0       2013-03-27  21061600.0\n",
       "1       2013-04-11  21870170.0\n",
       "2       2013-06-01  23570000.0\n",
       "3       2013-03-14  21061600.0\n",
       "4       2013-03-31  21040361.0\n",
       "...            ...         ...\n",
       "163152  2019-04-18         NaN\n",
       "163153  2019-09-17         NaN\n",
       "163154  2019-08-27         NaN\n",
       "163155  2019-08-29         NaN\n",
       "163156  2019-10-23         NaN\n",
       "\n",
       "[163157 rows x 2 columns]"
      ]
     },
     "execution_count": 327,
     "metadata": {},
     "output_type": "execute_result"
    }
   ],
   "source": [
    "df_completa2[['DT_NOTIFIC','COD_CEP']]"
   ]
  },
  {
   "cell_type": "code",
   "execution_count": null,
   "metadata": {},
   "outputs": [],
   "source": []
  }
 ],
 "metadata": {
  "kernelspec": {
   "display_name": "Python 3",
   "language": "python",
   "name": "python3"
  },
  "language_info": {
   "codemirror_mode": {
    "name": "ipython",
    "version": 3
   },
   "file_extension": ".py",
   "mimetype": "text/x-python",
   "name": "python",
   "nbconvert_exporter": "python",
   "pygments_lexer": "ipython3",
   "version": "3.7.1"
  }
 },
 "nbformat": 4,
 "nbformat_minor": 2
}

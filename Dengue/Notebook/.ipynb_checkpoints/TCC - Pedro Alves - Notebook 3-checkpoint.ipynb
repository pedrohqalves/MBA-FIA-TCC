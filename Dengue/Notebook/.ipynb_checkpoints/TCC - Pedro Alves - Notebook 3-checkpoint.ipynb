{
 "cells": [
  {
   "cell_type": "markdown",
   "metadata": {},
   "source": [
    "# ===============================\n",
    "\n",
    "\n",
    "# o objetivo do notebook é aplicar a modelagem escolhida nos dados de clima resgatados através da API\n",
    "\n",
    "\n",
    "# ==============================="
   ]
  },
  {
   "cell_type": "markdown",
   "metadata": {},
   "source": [
    "# ===============================\n",
    "\n",
    "\n",
    "# 1 . Importando as bibliotecas básicas\n",
    "\n",
    "\n",
    "# ==============================="
   ]
  },
  {
   "cell_type": "code",
   "execution_count": 44,
   "metadata": {},
   "outputs": [],
   "source": [
    "import pandas as pd\n",
    "import numpy as np\n",
    "import matplotlib.pyplot as plt\n",
    "import seaborn as sns\n",
    "import os\n",
    "import time\n",
    "import matplotlib.pyplot as plt\n",
    "import seaborn as sns\n",
    "from datetime import datetime\n",
    "import requests\n",
    "import json\n",
    "import datetime\n"
   ]
  },
  {
   "cell_type": "code",
   "execution_count": 60,
   "metadata": {},
   "outputs": [],
   "source": [
    "hoje_ano = datetime.datetime.today().year\n",
    "hoje_mes = datetime.datetime.today().month\n",
    "hoje_dia = datetime.datetime.today().day"
   ]
  },
  {
   "cell_type": "code",
   "execution_count": 61,
   "metadata": {},
   "outputs": [],
   "source": [
    "ontem_ano = (datetime.datetime.today() - datetime.timedelta(days=1)).year\n",
    "ontem_mes = (datetime.datetime.today() - datetime.timedelta(days=1)).month\n",
    "ontem_dia = (datetime.datetime.today() - datetime.timedelta(days=1)).day"
   ]
  },
  {
   "cell_type": "code",
   "execution_count": 62,
   "metadata": {},
   "outputs": [],
   "source": [
    "response_ontem = requests.get(\"https://apitempo.inmet.gov.br/estacao/dados/\"+str(ontem_ano)+\"-\"+str(ontem_mes)+\"-\"+str(ontem_dia))\n",
    "response_hoje = requests.get(\"https://apitempo.inmet.gov.br/estacao/dados/\"+str(hoje_ano)+\"-\"+str(hoje_mes)+\"-\"+str(hoje_dia))"
   ]
  },
  {
   "cell_type": "code",
   "execution_count": null,
   "metadata": {},
   "outputs": [],
   "source": [
    "df_ontem = pd.read_json(response_ontem.content)\n",
    "df_hoje = pd.read_json(response_hoje.content)"
   ]
  },
  {
   "cell_type": "code",
   "execution_count": 64,
   "metadata": {},
   "outputs": [
    {
     "ename": "FileNotFoundError",
     "evalue": "[Errno 2] File b'E:\\\\Users\\\\quadr\\\\Documents\\\\MBA\\\\Trabalhos\\\\TCC\\\\Dengue\\\\Bases\\\\Bases Tratadas//abt_final4.csv' does not exist: b'E:\\\\Users\\\\quadr\\\\Documents\\\\MBA\\\\Trabalhos\\\\TCC\\\\Dengue\\\\Bases\\\\Bases Tratadas//abt_final4.csv'",
     "output_type": "error",
     "traceback": [
      "\u001b[1;31m---------------------------------------------------------------------------\u001b[0m",
      "\u001b[1;31mFileNotFoundError\u001b[0m                         Traceback (most recent call last)",
      "\u001b[1;32m<ipython-input-64-0f514d897739>\u001b[0m in \u001b[0;36m<module>\u001b[1;34m\u001b[0m\n\u001b[1;32m----> 1\u001b[1;33m \u001b[0mabt_final4\u001b[0m \u001b[1;33m=\u001b[0m \u001b[0mpd\u001b[0m\u001b[1;33m.\u001b[0m\u001b[0mread_csv\u001b[0m\u001b[1;33m(\u001b[0m\u001b[1;34mr'E:\\Users\\quadr\\Documents\\MBA\\Trabalhos\\TCC\\Dengue\\Bases\\Bases Tratadas//abt_final4.csv'\u001b[0m\u001b[1;33m)\u001b[0m\u001b[1;33m\u001b[0m\u001b[1;33m\u001b[0m\u001b[0m\n\u001b[0m",
      "\u001b[1;32m~\\Anaconda3\\lib\\site-packages\\pandas\\io\\parsers.py\u001b[0m in \u001b[0;36mparser_f\u001b[1;34m(filepath_or_buffer, sep, delimiter, header, names, index_col, usecols, squeeze, prefix, mangle_dupe_cols, dtype, engine, converters, true_values, false_values, skipinitialspace, skiprows, skipfooter, nrows, na_values, keep_default_na, na_filter, verbose, skip_blank_lines, parse_dates, infer_datetime_format, keep_date_col, date_parser, dayfirst, cache_dates, iterator, chunksize, compression, thousands, decimal, lineterminator, quotechar, quoting, doublequote, escapechar, comment, encoding, dialect, error_bad_lines, warn_bad_lines, delim_whitespace, low_memory, memory_map, float_precision)\u001b[0m\n\u001b[0;32m    683\u001b[0m         )\n\u001b[0;32m    684\u001b[0m \u001b[1;33m\u001b[0m\u001b[0m\n\u001b[1;32m--> 685\u001b[1;33m         \u001b[1;32mreturn\u001b[0m \u001b[0m_read\u001b[0m\u001b[1;33m(\u001b[0m\u001b[0mfilepath_or_buffer\u001b[0m\u001b[1;33m,\u001b[0m \u001b[0mkwds\u001b[0m\u001b[1;33m)\u001b[0m\u001b[1;33m\u001b[0m\u001b[1;33m\u001b[0m\u001b[0m\n\u001b[0m\u001b[0;32m    686\u001b[0m \u001b[1;33m\u001b[0m\u001b[0m\n\u001b[0;32m    687\u001b[0m     \u001b[0mparser_f\u001b[0m\u001b[1;33m.\u001b[0m\u001b[0m__name__\u001b[0m \u001b[1;33m=\u001b[0m \u001b[0mname\u001b[0m\u001b[1;33m\u001b[0m\u001b[1;33m\u001b[0m\u001b[0m\n",
      "\u001b[1;32m~\\Anaconda3\\lib\\site-packages\\pandas\\io\\parsers.py\u001b[0m in \u001b[0;36m_read\u001b[1;34m(filepath_or_buffer, kwds)\u001b[0m\n\u001b[0;32m    455\u001b[0m \u001b[1;33m\u001b[0m\u001b[0m\n\u001b[0;32m    456\u001b[0m     \u001b[1;31m# Create the parser.\u001b[0m\u001b[1;33m\u001b[0m\u001b[1;33m\u001b[0m\u001b[1;33m\u001b[0m\u001b[0m\n\u001b[1;32m--> 457\u001b[1;33m     \u001b[0mparser\u001b[0m \u001b[1;33m=\u001b[0m \u001b[0mTextFileReader\u001b[0m\u001b[1;33m(\u001b[0m\u001b[0mfp_or_buf\u001b[0m\u001b[1;33m,\u001b[0m \u001b[1;33m**\u001b[0m\u001b[0mkwds\u001b[0m\u001b[1;33m)\u001b[0m\u001b[1;33m\u001b[0m\u001b[1;33m\u001b[0m\u001b[0m\n\u001b[0m\u001b[0;32m    458\u001b[0m \u001b[1;33m\u001b[0m\u001b[0m\n\u001b[0;32m    459\u001b[0m     \u001b[1;32mif\u001b[0m \u001b[0mchunksize\u001b[0m \u001b[1;32mor\u001b[0m \u001b[0miterator\u001b[0m\u001b[1;33m:\u001b[0m\u001b[1;33m\u001b[0m\u001b[1;33m\u001b[0m\u001b[0m\n",
      "\u001b[1;32m~\\Anaconda3\\lib\\site-packages\\pandas\\io\\parsers.py\u001b[0m in \u001b[0;36m__init__\u001b[1;34m(self, f, engine, **kwds)\u001b[0m\n\u001b[0;32m    893\u001b[0m             \u001b[0mself\u001b[0m\u001b[1;33m.\u001b[0m\u001b[0moptions\u001b[0m\u001b[1;33m[\u001b[0m\u001b[1;34m\"has_index_names\"\u001b[0m\u001b[1;33m]\u001b[0m \u001b[1;33m=\u001b[0m \u001b[0mkwds\u001b[0m\u001b[1;33m[\u001b[0m\u001b[1;34m\"has_index_names\"\u001b[0m\u001b[1;33m]\u001b[0m\u001b[1;33m\u001b[0m\u001b[1;33m\u001b[0m\u001b[0m\n\u001b[0;32m    894\u001b[0m \u001b[1;33m\u001b[0m\u001b[0m\n\u001b[1;32m--> 895\u001b[1;33m         \u001b[0mself\u001b[0m\u001b[1;33m.\u001b[0m\u001b[0m_make_engine\u001b[0m\u001b[1;33m(\u001b[0m\u001b[0mself\u001b[0m\u001b[1;33m.\u001b[0m\u001b[0mengine\u001b[0m\u001b[1;33m)\u001b[0m\u001b[1;33m\u001b[0m\u001b[1;33m\u001b[0m\u001b[0m\n\u001b[0m\u001b[0;32m    896\u001b[0m \u001b[1;33m\u001b[0m\u001b[0m\n\u001b[0;32m    897\u001b[0m     \u001b[1;32mdef\u001b[0m \u001b[0mclose\u001b[0m\u001b[1;33m(\u001b[0m\u001b[0mself\u001b[0m\u001b[1;33m)\u001b[0m\u001b[1;33m:\u001b[0m\u001b[1;33m\u001b[0m\u001b[1;33m\u001b[0m\u001b[0m\n",
      "\u001b[1;32m~\\Anaconda3\\lib\\site-packages\\pandas\\io\\parsers.py\u001b[0m in \u001b[0;36m_make_engine\u001b[1;34m(self, engine)\u001b[0m\n\u001b[0;32m   1133\u001b[0m     \u001b[1;32mdef\u001b[0m \u001b[0m_make_engine\u001b[0m\u001b[1;33m(\u001b[0m\u001b[0mself\u001b[0m\u001b[1;33m,\u001b[0m \u001b[0mengine\u001b[0m\u001b[1;33m=\u001b[0m\u001b[1;34m\"c\"\u001b[0m\u001b[1;33m)\u001b[0m\u001b[1;33m:\u001b[0m\u001b[1;33m\u001b[0m\u001b[1;33m\u001b[0m\u001b[0m\n\u001b[0;32m   1134\u001b[0m         \u001b[1;32mif\u001b[0m \u001b[0mengine\u001b[0m \u001b[1;33m==\u001b[0m \u001b[1;34m\"c\"\u001b[0m\u001b[1;33m:\u001b[0m\u001b[1;33m\u001b[0m\u001b[1;33m\u001b[0m\u001b[0m\n\u001b[1;32m-> 1135\u001b[1;33m             \u001b[0mself\u001b[0m\u001b[1;33m.\u001b[0m\u001b[0m_engine\u001b[0m \u001b[1;33m=\u001b[0m \u001b[0mCParserWrapper\u001b[0m\u001b[1;33m(\u001b[0m\u001b[0mself\u001b[0m\u001b[1;33m.\u001b[0m\u001b[0mf\u001b[0m\u001b[1;33m,\u001b[0m \u001b[1;33m**\u001b[0m\u001b[0mself\u001b[0m\u001b[1;33m.\u001b[0m\u001b[0moptions\u001b[0m\u001b[1;33m)\u001b[0m\u001b[1;33m\u001b[0m\u001b[1;33m\u001b[0m\u001b[0m\n\u001b[0m\u001b[0;32m   1136\u001b[0m         \u001b[1;32melse\u001b[0m\u001b[1;33m:\u001b[0m\u001b[1;33m\u001b[0m\u001b[1;33m\u001b[0m\u001b[0m\n\u001b[0;32m   1137\u001b[0m             \u001b[1;32mif\u001b[0m \u001b[0mengine\u001b[0m \u001b[1;33m==\u001b[0m \u001b[1;34m\"python\"\u001b[0m\u001b[1;33m:\u001b[0m\u001b[1;33m\u001b[0m\u001b[1;33m\u001b[0m\u001b[0m\n",
      "\u001b[1;32m~\\Anaconda3\\lib\\site-packages\\pandas\\io\\parsers.py\u001b[0m in \u001b[0;36m__init__\u001b[1;34m(self, src, **kwds)\u001b[0m\n\u001b[0;32m   1915\u001b[0m         \u001b[0mkwds\u001b[0m\u001b[1;33m[\u001b[0m\u001b[1;34m\"usecols\"\u001b[0m\u001b[1;33m]\u001b[0m \u001b[1;33m=\u001b[0m \u001b[0mself\u001b[0m\u001b[1;33m.\u001b[0m\u001b[0musecols\u001b[0m\u001b[1;33m\u001b[0m\u001b[1;33m\u001b[0m\u001b[0m\n\u001b[0;32m   1916\u001b[0m \u001b[1;33m\u001b[0m\u001b[0m\n\u001b[1;32m-> 1917\u001b[1;33m         \u001b[0mself\u001b[0m\u001b[1;33m.\u001b[0m\u001b[0m_reader\u001b[0m \u001b[1;33m=\u001b[0m \u001b[0mparsers\u001b[0m\u001b[1;33m.\u001b[0m\u001b[0mTextReader\u001b[0m\u001b[1;33m(\u001b[0m\u001b[0msrc\u001b[0m\u001b[1;33m,\u001b[0m \u001b[1;33m**\u001b[0m\u001b[0mkwds\u001b[0m\u001b[1;33m)\u001b[0m\u001b[1;33m\u001b[0m\u001b[1;33m\u001b[0m\u001b[0m\n\u001b[0m\u001b[0;32m   1918\u001b[0m         \u001b[0mself\u001b[0m\u001b[1;33m.\u001b[0m\u001b[0munnamed_cols\u001b[0m \u001b[1;33m=\u001b[0m \u001b[0mself\u001b[0m\u001b[1;33m.\u001b[0m\u001b[0m_reader\u001b[0m\u001b[1;33m.\u001b[0m\u001b[0munnamed_cols\u001b[0m\u001b[1;33m\u001b[0m\u001b[1;33m\u001b[0m\u001b[0m\n\u001b[0;32m   1919\u001b[0m \u001b[1;33m\u001b[0m\u001b[0m\n",
      "\u001b[1;32mpandas/_libs/parsers.pyx\u001b[0m in \u001b[0;36mpandas._libs.parsers.TextReader.__cinit__\u001b[1;34m()\u001b[0m\n",
      "\u001b[1;32mpandas/_libs/parsers.pyx\u001b[0m in \u001b[0;36mpandas._libs.parsers.TextReader._setup_parser_source\u001b[1;34m()\u001b[0m\n",
      "\u001b[1;31mFileNotFoundError\u001b[0m: [Errno 2] File b'E:\\\\Users\\\\quadr\\\\Documents\\\\MBA\\\\Trabalhos\\\\TCC\\\\Dengue\\\\Bases\\\\Bases Tratadas//abt_final4.csv' does not exist: b'E:\\\\Users\\\\quadr\\\\Documents\\\\MBA\\\\Trabalhos\\\\TCC\\\\Dengue\\\\Bases\\\\Bases Tratadas//abt_final4.csv'"
     ]
    }
   ],
   "source": [
    "abt_final4 = pd.read_csv(r'E:\\Users\\quadr\\Documents\\MBA\\Trabalhos\\TCC\\Dengue\\Bases\\Bases Tratadas//abt_final4.csv')"
   ]
  },
  {
   "cell_type": "code",
   "execution_count": 16,
   "metadata": {},
   "outputs": [
    {
     "data": {
      "text/plain": [
       "{'VEN_DIR': '130',\n",
       " 'DT_MEDICAO': '2020-05-02',\n",
       " 'DC_NOME': 'BRASILIA',\n",
       " 'CHUVA': '0',\n",
       " 'PRE_INS': '890.9',\n",
       " 'VL_LATITUDE': '-15.789343',\n",
       " 'PRE_MIN': '890.5',\n",
       " 'UMD_MAX': '75',\n",
       " 'PRE_MAX': '890.9',\n",
       " 'VEN_VEL': '1.6',\n",
       " 'UF': 'DF',\n",
       " 'PTO_MIN': '13.4',\n",
       " 'TEM_MAX': '19.7',\n",
       " 'RAD_GLO': '-3.54',\n",
       " 'PTO_INS': '13.4',\n",
       " 'VEN_RAJ': '3',\n",
       " 'TEM_INS': '19.2',\n",
       " 'UMD_INS': '69',\n",
       " 'CD_ESTACAO': 'A001',\n",
       " 'TEM_MIN': '18.5',\n",
       " 'VL_LONGITUDE': '-47.925756',\n",
       " 'HR_MEDICAO': '0000',\n",
       " 'UMD_MIN': '68',\n",
       " 'PTO_MAX': '14.2'}"
      ]
     },
     "execution_count": 16,
     "metadata": {},
     "output_type": "execute_result"
    }
   ],
   "source": [
    "json.loads(response.content)[0]"
   ]
  },
  {
   "cell_type": "markdown",
   "metadata": {},
   "source": [
    "# ===============================\n",
    "\n",
    "\n",
    "# 2 . Voltando para a modelagem\n",
    "\n",
    "\n",
    "# ==============================="
   ]
  },
  {
   "cell_type": "code",
   "execution_count": 2,
   "metadata": {},
   "outputs": [],
   "source": [
    "abt_final4 = pd.read_csv(r'E:\\Users\\quadr\\Documents\\MBA\\Trabalhos\\TCC\\Dengue\\Bases\\Bases Tratadas//abt_final4.csv')"
   ]
  },
  {
   "cell_type": "code",
   "execution_count": 3,
   "metadata": {},
   "outputs": [],
   "source": [
    "abt_final5 = abt_final4.drop('Data',axis = 1)"
   ]
  },
  {
   "cell_type": "code",
   "execution_count": 4,
   "metadata": {},
   "outputs": [
    {
     "name": "stderr",
     "output_type": "stream",
     "text": [
      "C:\\Users\\quadr\\Anaconda3\\lib\\site-packages\\sklearn\\preprocessing\\data.py:625: DataConversionWarning: Data with input dtype int64, float64 were all converted to float64 by StandardScaler.\n",
      "  return self.partial_fit(X, y)\n",
      "C:\\Users\\quadr\\Anaconda3\\lib\\site-packages\\sklearn\\base.py:462: DataConversionWarning: Data with input dtype int64, float64 were all converted to float64 by StandardScaler.\n",
      "  return self.fit(X, **fit_params).transform(X)\n"
     ]
    }
   ],
   "source": [
    "from sklearn.preprocessing import StandardScaler\n",
    "\n",
    "scaler = StandardScaler()\n",
    "scaled_abt = pd.DataFrame(scaler.fit_transform(abt_final5), index=abt_final5.index, columns=abt_final5.columns)\n"
   ]
  },
  {
   "cell_type": "code",
   "execution_count": 5,
   "metadata": {},
   "outputs": [],
   "source": [
    "#Tratando caracteres especiais nos nomes de colunas\n",
    "\n",
    "\n",
    "scaled_abt.columns = [\"\".join (c if c.isalnum() else \"_\" for c in str(x)) for x in scaled_abt.columns]\n",
    "\n",
    "\n",
    "\n",
    "import re\n",
    "scaled_abt = scaled_abt.rename(columns = lambda x:re.sub('[^A-Za-z0-9_]+', '', x))"
   ]
  },
  {
   "cell_type": "code",
   "execution_count": 6,
   "metadata": {},
   "outputs": [],
   "source": [
    "x = scaled_abt.drop(['NU_NOTIFIC'], axis =1)\n",
    "y = scaled_abt.NU_NOTIFIC"
   ]
  },
  {
   "cell_type": "markdown",
   "metadata": {},
   "source": [
    "##  Começando a Modelagem"
   ]
  },
  {
   "cell_type": "code",
   "execution_count": 7,
   "metadata": {},
   "outputs": [],
   "source": [
    "from sklearn.metrics import mean_absolute_error as mae,mean_squared_error as mse\n",
    "from sklearn.model_selection import train_test_split"
   ]
  },
  {
   "cell_type": "code",
   "execution_count": 8,
   "metadata": {},
   "outputs": [],
   "source": [
    "x_train,x_test,y_train,y_test = train_test_split(x,y,test_size = 0.3, random_state = 42)"
   ]
  },
  {
   "cell_type": "markdown",
   "metadata": {},
   "source": [
    "## Regressão Linear"
   ]
  },
  {
   "cell_type": "code",
   "execution_count": 9,
   "metadata": {},
   "outputs": [
    {
     "name": "stdout",
     "output_type": "stream",
     "text": [
      "treino\n",
      "O Score do Modelo na base de treino é :  0.04243864582065282\n",
      "O MAE do Modelo  é :  0.30328138661084625\n",
      "O MSRE do Modelo  é :  0.9752572265853496\n",
      "O Score do Modelo de Regressão Linear na base de teste é :  0.04738105583432839\n",
      "O MAE do Modelo de Regressão Linear é :  0.3022868897346913\n",
      "O MSRE do Modelo de Regressão Linear é :  0.9836433699612683\n"
     ]
    }
   ],
   "source": [
    "from sklearn.linear_model import LinearRegression\n",
    "\n",
    "lr = LinearRegression()\n",
    "\n",
    "lr_model = lr.fit(x_train, y_train)\n",
    "lr_pred = lr_model.predict(x_test)\n",
    "lr_pred_train = lr_model.predict(x_train)\n",
    "\n",
    "\n",
    "# Verificando a performance do modelo\n",
    "\n",
    "print('treino')\n",
    "print('O Score do Modelo na base de treino é : ',lr_model.score(x_train,y_train))\n",
    "print('O MAE do Modelo  é : ', mae(y_train,lr_pred_train))\n",
    "print('O MSRE do Modelo  é : ', np.sqrt(mse(y_train,lr_pred_train)))\n",
    "\n",
    "\n",
    "\n",
    "print('O Score do Modelo de Regressão Linear na base de teste é : ', lr.score(x_test,y_test))\n",
    "print('O MAE do Modelo de Regressão Linear é : ', mae(y_test,lr_pred))\n",
    "print('O MSRE do Modelo de Regressão Linear é : ', np.sqrt(mse(y_test,lr_pred)))"
   ]
  },
  {
   "cell_type": "markdown",
   "metadata": {},
   "source": [
    "## Árvore de Decisão"
   ]
  },
  {
   "cell_type": "code",
   "execution_count": 10,
   "metadata": {},
   "outputs": [
    {
     "name": "stdout",
     "output_type": "stream",
     "text": [
      "treino\n",
      "O Score do Modelo na base de treino é :  1.0\n",
      "O MAE do Modelo  é :  8.744503923399253e-18\n",
      "O MSRE do Modelo  é :  2.9671535272569776e-17\n",
      "O Score do Modelo de Árvore de Decisão na base de teste é :  0.46821091972143764\n",
      "O MAE do Modelo de Árvore de Decisão é :  0.1375560065155145\n",
      "O MSRE do Modelo de Árvore de Decisão é :  0.7349330359539542\n"
     ]
    }
   ],
   "source": [
    "from sklearn.tree import DecisionTreeRegressor\n",
    "\n",
    "tree = DecisionTreeRegressor(random_state=42)\n",
    "tree_model = tree.fit(x_train,y_train)\n",
    "tree_pred = tree_model.predict(x_test)\n",
    "tree_pred_train = tree_model.predict(x_train)\n",
    "\n",
    "\n",
    "# Verificando a performance do modelo\n",
    "\n",
    "print('treino')\n",
    "print('O Score do Modelo na base de treino é : ',tree_model.score(x_train,y_train))\n",
    "print('O MAE do Modelo  é : ', mae(y_train,tree_pred_train))\n",
    "print('O MSRE do Modelo  é : ', np.sqrt(mse(y_train,tree_pred_train)))\n",
    "\n",
    "print('O Score do Modelo de Árvore de Decisão na base de teste é : ',tree_model.score(x_test,y_test))\n",
    "print('O MAE do Modelo de Árvore de Decisão é : ', mae(y_test,tree_pred))\n",
    "print('O MSRE do Modelo de Árvore de Decisão é : ', np.sqrt(mse(y_test,tree_pred)))"
   ]
  },
  {
   "cell_type": "code",
   "execution_count": 11,
   "metadata": {},
   "outputs": [
    {
     "data": {
      "text/plain": [
       "count    120848.000000\n",
       "mean         26.676006\n",
       "std         119.888775\n",
       "min           1.000000\n",
       "25%           2.000000\n",
       "50%           5.000000\n",
       "75%          16.000000\n",
       "max        4017.000000\n",
       "Name: NU_NOTIFIC, dtype: float64"
      ]
     },
     "execution_count": 11,
     "metadata": {},
     "output_type": "execute_result"
    }
   ],
   "source": [
    "abt_final5.NU_NOTIFIC.describe()"
   ]
  },
  {
   "cell_type": "markdown",
   "metadata": {},
   "source": [
    "## ===============================\n",
    "\n",
    "\n",
    "# 5 . Modelagem - Inteligência Artificial\n",
    "\n",
    "\n",
    "# ==============================="
   ]
  },
  {
   "cell_type": "markdown",
   "metadata": {},
   "source": [
    "### Ainda sem realizar nenhum tipo de tratamento adicional, vamos aplicar alguns modelos de inteligência artificial, para comparar o resultado e definir quais os modelos seguiriam para uma etapa de otimização"
   ]
  },
  {
   "cell_type": "markdown",
   "metadata": {},
   "source": [
    "## Random Forest"
   ]
  },
  {
   "cell_type": "code",
   "execution_count": 25,
   "metadata": {},
   "outputs": [
    {
     "name": "stderr",
     "output_type": "stream",
     "text": [
      "C:\\Users\\quadr\\Anaconda3\\lib\\site-packages\\sklearn\\ensemble\\forest.py:246: FutureWarning: The default value of n_estimators will change from 10 in version 0.20 to 100 in 0.22.\n",
      "  \"10 in version 0.20 to 100 in 0.22.\", FutureWarning)\n"
     ]
    },
    {
     "name": "stdout",
     "output_type": "stream",
     "text": [
      "treino\n",
      "O Score do Modelo na base de treino é :  0.9499331382784686\n",
      "O MAE do Modelo  é :  0.04474466688881117\n",
      "O MSRE do Modelo  é :  0.22300318043156148\n",
      "teste\n",
      "O Score do Modelo  na base de teste é :  0.7148550122901596\n",
      "O MAE do Modelo  é :  0.11332094408850048\n",
      "O MSRE do Modelo  é :  0.5381594032423808\n"
     ]
    }
   ],
   "source": [
    "from sklearn.ensemble import RandomForestRegressor\n",
    "\n",
    "rf = RandomForestRegressor(random_state=42)\n",
    "rf_model = rf.fit(x_train,y_train)\n",
    "rf_pred_train = rf.predict(x_train)\n",
    "rf_pred = rf_model.predict(x_test)\n",
    "\n",
    "\n",
    "# Verificando a performance do modelo\n",
    "\n",
    "print('treino')\n",
    "print('O Score do Modelo na base de treino é : ',rf_model.score(x_train,y_train))\n",
    "print('O MAE do Modelo  é : ', mae(y_train,rf_pred_train))\n",
    "print('O MSRE do Modelo  é : ', np.sqrt(mse(y_train,rf_pred_train)))\n",
    "\n",
    "print('teste')\n",
    "print('O Score do Modelo  na base de teste é : ',rf_model.score(x_test,y_test))\n",
    "print('O MAE do Modelo  é : ', mae(y_test,rf_pred))\n",
    "print('O MSRE do Modelo  é : ', np.sqrt(mse(y_test,rf_pred)))"
   ]
  },
  {
   "cell_type": "markdown",
   "metadata": {},
   "source": [
    "## XGBoost"
   ]
  },
  {
   "cell_type": "code",
   "execution_count": 11,
   "metadata": {},
   "outputs": [
    {
     "name": "stderr",
     "output_type": "stream",
     "text": [
      "C:\\Users\\quadr\\Anaconda3\\lib\\site-packages\\xgboost\\core.py:587: FutureWarning: Series.base is deprecated and will be removed in a future version\n",
      "  if getattr(data, 'base', None) is not None and \\\n"
     ]
    },
    {
     "name": "stdout",
     "output_type": "stream",
     "text": [
      "[21:51:59] WARNING: C:/Jenkins/workspace/xgboost-win64_release_0.90/src/objective/regression_obj.cu:152: reg:linear is now deprecated in favor of reg:squarederror.\n",
      "treino\n",
      "O Score do Modelo na base de treino é :  0.6155852522951435\n",
      "O MAE do Modelo  é :  0.1963865895971043\n",
      "O MSRE do Modelo  é :  0.6179251793056751\n",
      "teste\n",
      "O Score do Modelo  na base de teste é :  0.585665365925512\n",
      "O MAE do Modelo  é :  0.19961840968200215\n",
      "O MSRE do Modelo  é :  0.648714612685285\n"
     ]
    }
   ],
   "source": [
    "from xgboost import XGBRegressor\n",
    "\n",
    "xgb = XGBRegressor(random_state=42)\n",
    "xgb_model = xgb.fit(x_train,y_train)\n",
    "xgb_pred = xgb.predict(x_test)\n",
    "xgb_pred_train = xgb.predict(x_train)\n",
    "\n",
    "\n",
    "# Verificando a performance do modelo\n",
    "\n",
    "print('treino')\n",
    "print('O Score do Modelo na base de treino é : ',xgb_model.score(x_train,y_train))\n",
    "print('O MAE do Modelo  é : ', mae(y_train,xgb_pred_train))\n",
    "print('O MSRE do Modelo  é : ', np.sqrt(mse(y_train,xgb_pred_train)))\n",
    "\n",
    "print('teste')\n",
    "print('O Score do Modelo  na base de teste é : ',xgb_model.score(x_test,y_test))\n",
    "print('O MAE do Modelo  é : ', mae(y_test,xgb_pred))\n",
    "print('O MSRE do Modelo  é : ', np.sqrt(mse(y_test,xgb_pred)))"
   ]
  },
  {
   "cell_type": "markdown",
   "metadata": {},
   "source": [
    "## LGBM"
   ]
  },
  {
   "cell_type": "code",
   "execution_count": 19,
   "metadata": {},
   "outputs": [
    {
     "name": "stdout",
     "output_type": "stream",
     "text": [
      "treino\n",
      "O Score do Modelo na base de treino é :  0.8632221671128908\n",
      "O MAE do Modelo  é :  0.1347522494221758\n",
      "O MSRE do Modelo  é :  0.36859015510151444\n",
      "teste\n",
      "O Score do Modelo  na base de teste é :  0.6957820671488806\n",
      "O MAE do Modelo  é :  0.15323523728574012\n",
      "O MSRE do Modelo  é :  0.5558664566090609\n"
     ]
    }
   ],
   "source": [
    "from lightgbm import LGBMRegressor\n",
    "\n",
    "lgbm = LGBMRegressor(random_state=42)\n",
    "lgbm_model = lgbm.fit(x_train,y_train)\n",
    "lgbm_pred = lgbm_model.predict(x_test)\n",
    "lgbm_pred_train = lgbm_model.predict(x_train)\n",
    "\n",
    "\n",
    "# Verificando a performance do modelo\n",
    "\n",
    "print('treino')\n",
    "print('O Score do Modelo na base de treino é : ',lgbm_model.score(x_train,y_train))\n",
    "print('O MAE do Modelo  é : ', mae(y_train,lgbm_pred_train))\n",
    "print('O MSRE do Modelo  é : ', np.sqrt(mse(y_train,lgbm_pred_train)))\n",
    "\n",
    "print('teste')\n",
    "print('O Score do Modelo  na base de teste é : ',lgbm_model.score(x_test,y_test))\n",
    "print('O MAE do Modelo  é : ', mae(y_test,lgbm_pred))\n",
    "print('O MSRE do Modelo  é : ', np.sqrt(mse(y_test,lgbm_pred)))"
   ]
  },
  {
   "cell_type": "markdown",
   "metadata": {},
   "source": [
    "## ===============================\n",
    "\n",
    "\n",
    "# 6 . Otimização dos Modelos\n",
    "\n",
    "\n",
    "# ==============================="
   ]
  },
  {
   "cell_type": "markdown",
   "metadata": {},
   "source": [
    "### Os modelos com melhor desempenho foram o Random Forest e o LightGBM\n"
   ]
  },
  {
   "cell_type": "markdown",
   "metadata": {},
   "source": [
    "### Começando com o Cross Validation"
   ]
  },
  {
   "cell_type": "code",
   "execution_count": 16,
   "metadata": {},
   "outputs": [
    {
     "data": {
      "text/plain": [
       "<bound method BaseEstimator.get_params of RandomForestRegressor(bootstrap=True, criterion='mse', max_depth=None,\n",
       "           max_features='auto', max_leaf_nodes=None,\n",
       "           min_impurity_decrease=0.0, min_impurity_split=None,\n",
       "           min_samples_leaf=1, min_samples_split=2,\n",
       "           min_weight_fraction_leaf=0.0, n_estimators=10, n_jobs=None,\n",
       "           oob_score=False, random_state=42, verbose=0, warm_start=False)>"
      ]
     },
     "execution_count": 16,
     "metadata": {},
     "output_type": "execute_result"
    }
   ],
   "source": [
    "rf_model.get_params"
   ]
  },
  {
   "cell_type": "code",
   "execution_count": 22,
   "metadata": {},
   "outputs": [
    {
     "data": {
      "text/plain": [
       "<bound method LGBMModel.get_params of LGBMRegressor(boosting_type='gbdt', class_weight=None, colsample_bytree=1.0,\n",
       "       importance_type='split', learning_rate=0.1, max_depth=-1,\n",
       "       min_child_samples=20, min_child_weight=0.001, min_split_gain=0.0,\n",
       "       n_estimators=100, n_jobs=-1, num_leaves=31, objective=None,\n",
       "       random_state=42, reg_alpha=0.0, reg_lambda=0.0, silent=True,\n",
       "       subsample=1.0, subsample_for_bin=200000, subsample_freq=0)>"
      ]
     },
     "execution_count": 22,
     "metadata": {},
     "output_type": "execute_result"
    }
   ],
   "source": [
    "lgbm_model.get_params"
   ]
  },
  {
   "cell_type": "code",
   "execution_count": 23,
   "metadata": {
    "scrolled": false
   },
   "outputs": [
    {
     "name": "stderr",
     "output_type": "stream",
     "text": [
      "C:\\Users\\quadr\\Anaconda3\\lib\\site-packages\\sklearn\\ensemble\\forest.py:246: FutureWarning: The default value of n_estimators will change from 10 in version 0.20 to 100 in 0.22.\n",
      "  \"10 in version 0.20 to 100 in 0.22.\", FutureWarning)\n",
      "C:\\Users\\quadr\\Anaconda3\\lib\\site-packages\\sklearn\\model_selection\\_split.py:2053: FutureWarning: You should specify a value for 'cv' instead of relying on the default value. The default value will change from 3 to 5 in version 0.22.\n",
      "  warnings.warn(CV_WARNING, FutureWarning)\n",
      "[Parallel(n_jobs=1)]: Using backend SequentialBackend with 1 concurrent workers.\n"
     ]
    },
    {
     "name": "stdout",
     "output_type": "stream",
     "text": [
      "Fitting 3 folds for each of 9 candidates, totalling 27 fits\n"
     ]
    },
    {
     "name": "stderr",
     "output_type": "stream",
     "text": [
      "[Parallel(n_jobs=1)]: Done  27 out of  27 | elapsed: 139.4min finished\n"
     ]
    },
    {
     "name": "stdout",
     "output_type": "stream",
     "text": [
      "treino\n",
      "O Score do Modelo com Cross Validation é :  0.9645505811223444\n",
      "O MAE do com Cross Validation é :  0.04015076076662767\n",
      "O MSRE do Modelo com Cross Validation  é :  0.1876464843313224\n",
      "teste\n",
      "O Score do Modelo com Cross Validation é :  0.7384898904247086\n",
      "O MAE do com Cross Validation é :  0.10746659464844052\n",
      "O MSRE do Modelo com Cross Validation  é :  0.5153737606776986\n",
      "Tempo Gasto =  8911.893840789795\n"
     ]
    }
   ],
   "source": [
    "# Primeiro para o Random Forest\n",
    "\n",
    "inicio = time.time()\n",
    "\n",
    "from sklearn.ensemble import RandomForestRegressor\n",
    "from sklearn.model_selection import GridSearchCV\n",
    "\n",
    "\n",
    "rf = RandomForestRegressor(random_state=42)\n",
    "rf_model = rf.fit(x_train,y_train)\n",
    "rf_pred = rf.predict(x_test)\n",
    "\n",
    "parameters = {'max_depth':[30,50,100], 'criterion':['mse'], 'n_estimators':[50,100,150]}\n",
    "\n",
    "\n",
    "grid_rf = GridSearchCV(estimator= rf, param_grid=parameters ,verbose=1)\n",
    "grid_rf_model = grid_rf.fit(x_train,y_train)\n",
    "grid_rf_pred = grid_rf_model.predict(x_test)\n",
    "grid_rf_pred_train = grid_rf_model.predict(x_train)\n",
    "\n",
    "\n",
    "\n",
    "\n",
    "# Verificando a performance do modelo\n",
    "\n",
    "\n",
    "print('treino')\n",
    "print('O Score do Modelo com Cross Validation é : ',grid_rf_model.score(x_train,y_train))\n",
    "print('O MAE do com Cross Validation é : ', mae(y_train,grid_rf_pred_train))\n",
    "print('O MSRE do Modelo com Cross Validation  é : ', np.sqrt(mse(y_train,grid_rf_pred_train)))\n",
    "\n",
    "\n",
    "print('teste')\n",
    "print('O Score do Modelo com Cross Validation é : ',grid_rf_model.score(x_test,y_test))\n",
    "print('O MAE do com Cross Validation é : ', mae(y_test,grid_rf_pred))\n",
    "print('O MSRE do Modelo com Cross Validation  é : ', np.sqrt(mse(y_test,grid_rf_pred)))\n",
    "\n",
    "\n",
    "\n",
    "grid_rf_model.get_params\n",
    "\n",
    "fim = time.time()\n",
    "\n",
    "print('Tempo Gasto = ', (fim - inicio))"
   ]
  },
  {
   "cell_type": "code",
   "execution_count": 24,
   "metadata": {
    "scrolled": true
   },
   "outputs": [
    {
     "name": "stderr",
     "output_type": "stream",
     "text": [
      "C:\\Users\\quadr\\Anaconda3\\lib\\site-packages\\sklearn\\model_selection\\_split.py:2053: FutureWarning: You should specify a value for 'cv' instead of relying on the default value. The default value will change from 3 to 5 in version 0.22.\n",
      "  warnings.warn(CV_WARNING, FutureWarning)\n",
      "[Parallel(n_jobs=1)]: Using backend SequentialBackend with 1 concurrent workers.\n"
     ]
    },
    {
     "name": "stdout",
     "output_type": "stream",
     "text": [
      "Fitting 3 folds for each of 27 candidates, totalling 81 fits\n"
     ]
    },
    {
     "name": "stderr",
     "output_type": "stream",
     "text": [
      "[Parallel(n_jobs=1)]: Done  81 out of  81 | elapsed:  2.6min finished\n"
     ]
    },
    {
     "name": "stdout",
     "output_type": "stream",
     "text": [
      "treino\n",
      "O Score do Modelo com Cross Validation é :  0.8855911986866912\n",
      "O MAE do com Cross Validation é :  0.12491610272942556\n",
      "O MSRE do Modelo com Cross Validation  é :  0.3371053070530676\n",
      "teste\n",
      "O Score do Modelo com Cross Validation é :  0.7040374583570184\n",
      "O MAE do com Cross Validation é :  0.14768985091877188\n",
      "O MSRE do Modelo com Cross Validation  é :  0.5482724658712087\n",
      "Tempo Gasto =  162.2355272769928\n"
     ]
    }
   ],
   "source": [
    "# Para o LGBM\n",
    "\n",
    "inicio = time.time()\n",
    "\n",
    "from lightgbm import LGBMRegressor\n",
    "from sklearn.model_selection import GridSearchCV\n",
    "\n",
    "\n",
    "lgbm = LGBMRegressor(random_state=42)\n",
    "lgbm_model = lgbm.fit(x_train,y_train)\n",
    "lgbm_pred = lgbm_model.predict(x_test)\n",
    "\n",
    "\n",
    "parameters = {'max_depth':[30,50,100],'boosting_type':['gbdt','dart','goss'] ,'n_estimators':[50,100,150]}\n",
    "\n",
    "\n",
    "grid_lgbm = GridSearchCV(estimator= lgbm, param_grid=parameters ,verbose=1)\n",
    "grid_lgbm_model = grid_lgbm.fit(x_train,y_train)\n",
    "grid_lgbm_pred = grid_lgbm_model.predict(x_test)\n",
    "grid_lgbm_pred_train = grid_lgbm_model.predict(x_train)\n",
    "\n",
    "\n",
    "\n",
    "\n",
    "# Verificando a performance do modelo\n",
    "\n",
    "print('treino')\n",
    "print('O Score do Modelo com Cross Validation é : ',grid_lgbm_model.score(x_train,y_train))\n",
    "print('O MAE do com Cross Validation é : ', mae(y_train,grid_lgbm_pred_train))\n",
    "print('O MSRE do Modelo com Cross Validation  é : ', np.sqrt(mse(y_train,grid_lgbm_pred_train)))\n",
    "\n",
    "\n",
    "print('teste')\n",
    "print('O Score do Modelo com Cross Validation é : ',grid_lgbm_model.score(x_test,y_test))\n",
    "print('O MAE do com Cross Validation é : ', mae(y_test,grid_lgbm_pred))\n",
    "print('O MSRE do Modelo com Cross Validation  é : ', np.sqrt(mse(y_test,grid_lgbm_pred)))\n",
    "\n",
    "grid_lgbm_model.get_params\n",
    "\n",
    "fim = time.time()\n",
    "\n",
    "print('Tempo Gasto = ', (fim - inicio))"
   ]
  },
  {
   "cell_type": "markdown",
   "metadata": {},
   "source": [
    "## Fazendo feature selection"
   ]
  },
  {
   "cell_type": "code",
   "execution_count": 22,
   "metadata": {},
   "outputs": [
    {
     "name": "stdout",
     "output_type": "stream",
     "text": [
      "20%\n",
      "-------------\n",
      "treino\n",
      "O Score do Modelo na base de treino é :  0.7172510764954623\n",
      "O MAE do Modelo  é :  0.1648865253210031\n",
      "O MSRE do Modelo  é :  0.5299517761351455\n",
      "teste\n",
      "O Score do Modelo  na base de teste é :  0.6030392402520334\n",
      "O MAE do Modelo  é :  0.17543289887470395\n",
      "O MSRE do Modelo  é :  0.6349680177663659\n",
      "-----------\n",
      "40%\n",
      "-------------\n",
      "treino\n",
      "O Score do Modelo na base de treino é :  0.8189368231889995\n",
      "O MAE do Modelo  é :  0.14988703985944102\n",
      "O MSRE do Modelo  é :  0.4240830746695275\n",
      "teste\n",
      "O Score do Modelo  na base de teste é :  0.6682234536550674\n",
      "O MAE do Modelo  é :  0.1651071234041812\n",
      "O MSRE do Modelo  é :  0.5804982343560475\n",
      "-----------\n",
      "60%\n",
      "-------------\n",
      "treino\n",
      "O Score do Modelo na base de treino é :  0.8458201773197234\n",
      "O MAE do Modelo  é :  0.14198927721363516\n",
      "O MSRE do Modelo  é :  0.3913358569948988\n",
      "teste\n",
      "O Score do Modelo  na base de teste é :  0.6880204649770452\n",
      "O MAE do Modelo  é :  0.15832842177915657\n",
      "O MSRE do Modelo  é :  0.5629127886112127\n",
      "-----------\n",
      "80%\n",
      "-------------\n",
      "treino\n",
      "O Score do Modelo na base de treino é :  0.8516920585778923\n",
      "O MAE do Modelo  é :  0.13923634877104\n",
      "O MSRE do Modelo  é :  0.38381158143248995\n",
      "teste\n",
      "O Score do Modelo  na base de teste é :  0.6955710777267023\n",
      "O MAE do Modelo  é :  0.15635276747267826\n",
      "O MSRE do Modelo  é :  0.5560591829439357\n",
      "-----------\n",
      "100%\n",
      "-------------\n",
      "treino\n",
      "O Score do Modelo na base de treino é :  0.8632221671128908\n",
      "O MAE do Modelo  é :  0.1347522494221758\n",
      "O MSRE do Modelo  é :  0.36859015510151444\n",
      "teste\n",
      "O Score do Modelo  na base de teste é :  0.6957820671488806\n",
      "O MAE do Modelo  é :  0.15323523728574012\n",
      "O MSRE do Modelo  é :  0.5558664566090609\n",
      "-----------\n"
     ]
    }
   ],
   "source": [
    "from sklearn.feature_selection import SelectPercentile, f_regression\n",
    "\n",
    "for i in range(2,12,2):\n",
    "    \n",
    "    print(str(i*10)+'%')\n",
    "    print('-------------')\n",
    "    x_new = SelectPercentile(f_regression,percentile=i*10).fit_transform(x,y)\n",
    "    \n",
    "    x_train,x_test,y_train,y_test = train_test_split(x_new,y,test_size = 0.3, random_state = 42)\n",
    "    \n",
    "    from lightgbm import LGBMRegressor\n",
    "\n",
    "    lgbm = LGBMRegressor(random_state=42)\n",
    "    lgbm_model = lgbm.fit(x_train,y_train)\n",
    "    lgbm_pred = lgbm_model.predict(x_test)\n",
    "    lgbm_pred_train = lgbm_model.predict(x_train)\n",
    "\n",
    "\n",
    "    # Verificando a performance do modelo\n",
    "\n",
    "    print('treino')\n",
    "    print('O Score do Modelo na base de treino é : ',lgbm_model.score(x_train,y_train))\n",
    "    print('O MAE do Modelo  é : ', mae(y_train,lgbm_pred_train))\n",
    "    print('O MSRE do Modelo  é : ', np.sqrt(mse(y_train,lgbm_pred_train)))\n",
    "\n",
    "    print('teste')\n",
    "    print('O Score do Modelo  na base de teste é : ',lgbm_model.score(x_test,y_test))\n",
    "    print('O MAE do Modelo  é : ', mae(y_test,lgbm_pred))\n",
    "    print('O MSRE do Modelo  é : ', np.sqrt(mse(y_test,lgbm_pred))) \n",
    "    \n",
    "    print('-----------')\n",
    "\n"
   ]
  },
  {
   "cell_type": "markdown",
   "metadata": {},
   "source": [
    "### Não tivemos mudanças positivas com número de features menor, manteremos 100%"
   ]
  }
 ],
 "metadata": {
  "kernelspec": {
   "display_name": "Python 3",
   "language": "python",
   "name": "python3"
  },
  "language_info": {
   "codemirror_mode": {
    "name": "ipython",
    "version": 3
   },
   "file_extension": ".py",
   "mimetype": "text/x-python",
   "name": "python",
   "nbconvert_exporter": "python",
   "pygments_lexer": "ipython3",
   "version": "3.7.1"
  }
 },
 "nbformat": 4,
 "nbformat_minor": 2
}
